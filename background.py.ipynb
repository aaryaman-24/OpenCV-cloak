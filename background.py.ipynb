{
 "cells": [
  {
   "cell_type": "code",
   "execution_count": 3,
   "metadata": {},
   "outputs": [],
   "source": [
    "import cv2\n",
    "# 0 indicates webcam\n",
    "cap = cv2.VideoCapture(0)\n",
    "\n",
    "while cap.isOpened():\n",
    "    # read frame by frame\n",
    "    ret, frame = cap.read() \n",
    "    # ret will be true if the camera is working\n",
    "    if ret:\n",
    "        cv2.imshow(\"image\",frame)\n",
    "        if cv2.waitKey(5) == ord(\"b\"):\n",
    "            break\n",
    "        if cv2.waitKey(5) == ord(\"s\"):\n",
    "            # save the image on pressing s\n",
    "            cv2.imwrite(\"bkground.jpeg\", frame)\n",
    "            break\n",
    "cap.release()\n",
    "cv2.destroyAllWindows()"
   ]
  },
  {
   "cell_type": "code",
   "execution_count": null,
   "metadata": {},
   "outputs": [],
   "source": []
  }
 ],
 "metadata": {
  "kernelspec": {
   "display_name": "Python 3",
   "language": "python",
   "name": "python3"
  },
  "language_info": {
   "codemirror_mode": {
    "name": "ipython",
    "version": 3
   },
   "file_extension": ".py",
   "mimetype": "text/x-python",
   "name": "python",
   "nbconvert_exporter": "python",
   "pygments_lexer": "ipython3",
   "version": "3.7.6"
  }
 },
 "nbformat": 4,
 "nbformat_minor": 4
}
