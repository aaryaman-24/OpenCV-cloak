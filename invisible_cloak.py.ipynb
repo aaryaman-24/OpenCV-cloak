{
 "cells": [
  {
   "cell_type": "code",
   "execution_count": 1,
   "metadata": {},
   "outputs": [],
   "source": [
    "import cv2\n",
    "import numpy as np\n",
    "\n",
    "cap = cv2.VideoCapture(0)\n",
    "back = cv2.imread(\"./bkground.jpeg\")\n",
    "\n",
    "while cap.isOpened():\n",
    "    # take each frame\n",
    "    ret, frame = cap.read()\n",
    "    \n",
    "    if ret:\n",
    "        # convert rgb to hsv color space\n",
    "        hsv = cv2.cvtColor(frame, cv2.COLOR_BGR2HSV)\n",
    "    \n",
    "        # bgr value of red\n",
    "        red = np.uint8([[[0,0,255]]])\n",
    "        hsv_red = cv2.cvtColor(red, cv2.COLOR_BGR2HSV)# [0,255,255]\n",
    "        #to get hsv range for red colour\n",
    "        # h:0-10 and 170-180, s:70-255 , v:50-255\n",
    "        #threshold hsv value to only get the red colours\n",
    "        low_red = np.array([0, 70, 50])\n",
    "        up_red = np.array([10, 255, 255])\n",
    "        mask0 = cv2.inRange(hsv, low_red, up_red)\n",
    "        \n",
    "        low_red = np.array([170, 70, 50])\n",
    "        up_red = np.array([180, 255, 255])\n",
    "        mask1 = cv2.inRange(hsv,low_red, up_red)\n",
    "        \n",
    "        # shows only the part of the background image which is red(invisible)\n",
    "        part1= cv2.bitwise_and(back,back, mask=mask0+mask1)\n",
    "        \n",
    "        mask2 = cv2.bitwise_not(mask0+mask1)\n",
    "        \n",
    "        # shows the part of the current frame which is not red(visible)\n",
    "        part2 = cv2.bitwise_and(frame,frame, mask=mask2)\n",
    "        \n",
    "        cv2.imshow(\"cloak\", part1+part2)\n",
    "        \n",
    "        # press b to break from the program\n",
    "        if cv2.waitKey(5) == ord(\"b\"):  \n",
    "            break\n",
    "cap.release()\n",
    "cv2.destroyAllWindows()"
   ]
  },
  {
   "cell_type": "code",
   "execution_count": null,
   "metadata": {},
   "outputs": [],
   "source": []
  }
 ],
 "metadata": {
  "kernelspec": {
   "display_name": "Python 3",
   "language": "python",
   "name": "python3"
  },
  "language_info": {
   "codemirror_mode": {
    "name": "ipython",
    "version": 3
   },
   "file_extension": ".py",
   "mimetype": "text/x-python",
   "name": "python",
   "nbconvert_exporter": "python",
   "pygments_lexer": "ipython3",
   "version": "3.7.6"
  }
 },
 "nbformat": 4,
 "nbformat_minor": 4
}
